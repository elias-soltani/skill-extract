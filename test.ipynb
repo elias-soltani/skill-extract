{
 "cells": [
  {
   "cell_type": "code",
   "execution_count": 57,
   "metadata": {
    "tags": []
   },
   "outputs": [
    {
     "name": "stderr",
     "output_type": "stream",
     "text": [
      "[nltk_data] Downloading package stopwords to\n",
      "[nltk_data]     C:\\Users\\egha355\\AppData\\Roaming\\nltk_data...\n",
      "[nltk_data]   Unzipping corpora\\stopwords.zip.\n"
     ]
    }
   ],
   "source": [
    "%%capture\n",
    "!python -m spacy download en_core_web_sm\n",
    "nltk.download('stopwords')"
   ]
  },
  {
   "cell_type": "code",
   "execution_count": 60,
   "metadata": {
    "tags": []
   },
   "outputs": [
    {
     "name": "stderr",
     "output_type": "stream",
     "text": [
      "[nltk_data] Downloading package wordnet to\n",
      "[nltk_data]     C:\\Users\\egha355\\AppData\\Roaming\\nltk_data...\n"
     ]
    },
    {
     "data": {
      "text/plain": [
       "True"
      ]
     },
     "execution_count": 60,
     "metadata": {},
     "output_type": "execute_result"
    }
   ],
   "source": [
    "import spacy\n",
    "from spacy.tokens import DocBin\n",
    "from tqdm import tqdm\n",
    "import json\n",
    "\n",
    "import pandas as pd\n",
    "import numpy as np \n",
    "import re\n",
    "\n",
    "import matplotlib\n",
    "import matplotlib.pyplot as plt \n",
    "import seaborn as sns\n",
    "from wordcloud import WordCloud\n",
    "sns.set()\n",
    "\n",
    "from sklearn.feature_extraction.text import CountVectorizer\n",
    "\n",
    "import nltk\n",
    "from nltk.tokenize import sent_tokenize, word_tokenize, RegexpTokenizer\n",
    "from nltk.stem.porter import PorterStemmer\n",
    "from nltk.stem.wordnet import WordNetLemmatizer\n",
    "from nltk.corpus import stopwords\n",
    "nltk.download('wordnet')"
   ]
  },
  {
   "attachments": {},
   "cell_type": "markdown",
   "metadata": {},
   "source": [
    "<ol>\n",
    "    <li>Clean text\n",
    "        <ul>\n",
    "            <li> Parse words\n",
    "            <li> Remove all special characters\n",
    "            <li> Cleaned formatting\n",
    "        </ul>\n",
    "    <li> Tokenize\n",
    "         <ul>\n",
    "             <li> Words\n",
    "        </ul>\n",
    "    <li> Counts\n",
    "         <ul>\n",
    "             <li> Word Count w/ visualization\n",
    "        </ul>\n",
    "    <li> Stop Word Removal \n",
    "    <li> Lemmatization\n",
    "</ol>"
   ]
  },
  {
   "attachments": {},
   "cell_type": "markdown",
   "metadata": {},
   "source": [
    "# Loading data and EDA"
   ]
  },
  {
   "attachments": {},
   "cell_type": "markdown",
   "metadata": {},
   "source": [
    "To ensure the model's ability to generalize well, it is recommended to have a substantial amount of data, ideally several thousands, from both job descriptions and resumes. Having a diverse and representative dataset allows the model to learn patterns and relationships across various job domains and applicant profiles. This larger dataset helps reduce the risk of overfitting and improves the model's ability to make accurate predictions on unseen data. Additionally, a sufficient amount of data enables the model to capture the nuances and variations present in real-world scenarios, leading to more reliable and robust results. However for the proof of concept we consider a small subset of data, that can be used for skill extraction quickly."
   ]
  },
  {
   "cell_type": "code",
   "execution_count": 4,
   "metadata": {},
   "outputs": [
    {
     "name": "stdout",
     "output_type": "stream",
     "text": [
      "<class 'pandas.core.frame.DataFrame'>\n",
      "RangeIndex: 5715 entries, 0 to 5714\n",
      "Data columns (total 43 columns):\n",
      " #   Column                            Non-Null Count  Dtype  \n",
      "---  ------                            --------------  -----  \n",
      " 0   Unnamed: 0                        5715 non-null   int64  \n",
      " 1   Job_Title                         5715 non-null   object \n",
      " 2   Link                              5715 non-null   object \n",
      " 3   Queried_Salary                    5715 non-null   object \n",
      " 4   Job_Type                          5715 non-null   object \n",
      " 5   Skill                             5483 non-null   object \n",
      " 6   No_of_Skills                      5715 non-null   int64  \n",
      " 7   Company                           5611 non-null   object \n",
      " 8   No_of_Reviews                     4753 non-null   float64\n",
      " 9   No_of_Stars                       4753 non-null   float64\n",
      " 10  Date_Since_Posted                 5611 non-null   float64\n",
      " 11  Description                       5413 non-null   object \n",
      " 12  Location                          5463 non-null   object \n",
      " 13  Company_Revenue                   2017 non-null   object \n",
      " 14  Company_Employees                 3199 non-null   object \n",
      " 15  Company_Industry                  3826 non-null   object \n",
      " 16  python                            5715 non-null   int64  \n",
      " 17  sql                               5715 non-null   int64  \n",
      " 18  machine learning                  5715 non-null   int64  \n",
      " 19  r                                 5715 non-null   int64  \n",
      " 20  hadoop                            5715 non-null   int64  \n",
      " 21  tableau                           5715 non-null   int64  \n",
      " 22  sas                               5715 non-null   int64  \n",
      " 23  spark                             5715 non-null   int64  \n",
      " 24  java                              5715 non-null   int64  \n",
      " 25  Others                            5715 non-null   int64  \n",
      " 26  CA                                5715 non-null   int64  \n",
      " 27  NY                                5715 non-null   int64  \n",
      " 28  VA                                5715 non-null   int64  \n",
      " 29  TX                                5715 non-null   int64  \n",
      " 30  MA                                5715 non-null   int64  \n",
      " 31  IL                                5715 non-null   int64  \n",
      " 32  WA                                5715 non-null   int64  \n",
      " 33  MD                                5715 non-null   int64  \n",
      " 34  DC                                5715 non-null   int64  \n",
      " 35  NC                                5715 non-null   int64  \n",
      " 36  Other_states                      5715 non-null   int64  \n",
      " 37  Consulting and Business Services  5715 non-null   int64  \n",
      " 38  Internet and Software             5715 non-null   int64  \n",
      " 39  Banks and Financial Services      5715 non-null   int64  \n",
      " 40  Health Care                       5715 non-null   int64  \n",
      " 41  Insurance                         5715 non-null   int64  \n",
      " 42  Other_industries                  5715 non-null   int64  \n",
      "dtypes: float64(3), int64(29), object(11)\n",
      "memory usage: 1.9+ MB\n"
     ]
    }
   ],
   "source": [
    "def load_json(file):\n",
    "    with open(file, 'r') as f:\n",
    "        return json.load(f)\n",
    "    \n",
    "# read data from csv file. data was downloaded from Kaggle, scraped from indeed.com\n",
    "df = pd.read_csv(r'data/indeed_job_dataset.csv')\n",
    "df.info()"
   ]
  },
  {
   "cell_type": "code",
   "execution_count": 5,
   "metadata": {},
   "outputs": [
    {
     "data": {
      "text/plain": [
       "(5715, 43)"
      ]
     },
     "execution_count": 5,
     "metadata": {},
     "output_type": "execute_result"
    }
   ],
   "source": [
    "# more that 5000 data. More clean data would affect the model performance positively.\n",
    "df.shape"
   ]
  },
  {
   "cell_type": "code",
   "execution_count": 6,
   "metadata": {},
   "outputs": [
    {
     "data": {
      "text/plain": [
       "Index(['Unnamed: 0', 'Job_Title', 'Link', 'Queried_Salary', 'Job_Type',\n",
       "       'Skill', 'No_of_Skills', 'Company', 'No_of_Reviews', 'No_of_Stars',\n",
       "       'Date_Since_Posted', 'Description', 'Location', 'Company_Revenue',\n",
       "       'Company_Employees', 'Company_Industry', 'python', 'sql',\n",
       "       'machine learning', 'r', 'hadoop', 'tableau', 'sas', 'spark', 'java',\n",
       "       'Others', 'CA', 'NY', 'VA', 'TX', 'MA', 'IL', 'WA', 'MD', 'DC', 'NC',\n",
       "       'Other_states', 'Consulting and Business Services',\n",
       "       'Internet and Software', 'Banks and Financial Services', 'Health Care',\n",
       "       'Insurance', 'Other_industries'],\n",
       "      dtype='object')"
      ]
     },
     "execution_count": 6,
     "metadata": {},
     "output_type": "execute_result"
    }
   ],
   "source": [
    "# check the columns\n",
    "df.columns"
   ]
  },
  {
   "cell_type": "code",
   "execution_count": 14,
   "metadata": {},
   "outputs": [
    {
     "data": {
      "image/png": "[encoded data removed]",
      "text/plain": [
       "<Figure size 864x360 with 1 Axes>"
      ]
     },
     "metadata": {
      "needs_background": "light"
     },
     "output_type": "display_data"
    }
   ],
   "source": [
    "# The jobs are from different locations and not distributed evenly.\n",
    "plt.figure(figsize = (12,5))\n",
    "sns.histplot (df['Location'])\n",
    "plt.title('Job Distribution by Location', size = 25);"
   ]
  },
  {
   "cell_type": "code",
   "execution_count": 15,
   "metadata": {},
   "outputs": [
    {
     "data": {
      "text/plain": [
       "Data Scientist              715\n",
       "Data Analyst                405\n",
       "Data Engineer               391\n",
       "Senior Data Scientist       205\n",
       "Senior Data Engineer        136\n",
       "Senior Data Analyst          86\n",
       "Big Data Engineer            80\n",
       "Principal Data Scientist     62\n",
       "Lead Data Scientist          49\n",
       "Sr. Data Scientist           45\n",
       "Name: Job_Title, dtype: int64"
      ]
     },
     "execution_count": 15,
     "metadata": {},
     "output_type": "execute_result"
    }
   ],
   "source": [
    "# The jobs are for different roles but mostly in the tech industry.\n",
    "df['Job_Title'].value_counts().head(10)"
   ]
  },
  {
   "attachments": {},
   "cell_type": "markdown",
   "metadata": {},
   "source": [
    "Because the jobs are not distributed evenly in the dataset, it might not generalize well for the jobs that we have less data."
   ]
  },
  {
   "attachments": {},
   "cell_type": "markdown",
   "metadata": {},
   "source": [
    "# Preprocessing"
   ]
  },
  {
   "attachments": {},
   "cell_type": "markdown",
   "metadata": {},
   "source": [
    "Let's see a job description to get a sense of the data."
   ]
  },
  {
   "cell_type": "code",
   "execution_count": 8,
   "metadata": {},
   "outputs": [
    {
     "data": {
      "text/plain": [
       "'[<p><b>POSITION SUMMARY</b></p>, <p>\\r\\r\\nThe Business Analyst role is the primary architect of reporting and dashboard solutions for internal and external clients. Utilizing ESI corporate standard development tools this position is responsible for the design, development, implementation, analysis, interpretation and communication of business information based on the needs of individual clients. The ability to balance overall aesthetics with robust and intuitive functionality is a critical requirement for success in this position.</p>, <p><b>\\r\\r\\nESSENTIAL FUNCTIONS</b></p>, <ul><li>\\r\\r\\nSuccessfully design and implement external client data reporting and dashboard solutions with a strong focus on product aesthetics and functionality.</li><li>\\r\\r\\nAid in the design, development, and implementation of new product ideas for external and internal clients.</li><li>\\r\\r\\nMaintain Live and Data Warehouse Business Objects Universes; add new fields, modify table joins, implement data structures that streamline report extraction and data analysis.</li><li>\\r\\r\\nDevelop and document best practices for all points throughout the design and implementation process.</li><li>\\r\\r\\nCoordinate and interface with Account Management and Implementation teams to gather product design requirements and provide insight into capabilities and solutions.</li><li>\\r\\r\\nResearch and present new software and technology solutions to other internal developers, as well as management, to allow for the evaluation and potential integration of new development tools.</li></ul>, <p><b>QUALIFICATIONS</b></p>, <ul><li><p>\\r\\r\\nBachelor’s degree in related field or 8 to 11 years of experience.</p></li><li>\\r\\r\\n2-5 years relevant experience with Bachelor’s Degree or Master’s degree and 0-3 years of relevant experience.</li><li>\\r\\r\\nRecent experience creating Business Objects XI reports.</li><li>\\r\\r\\nDesigning data visualization applications using SAP Xcelsius 2008 software.</li><li>\\r\\r\\nDesigning, implementing and maintaining data universe structures using Business Objects Universe Designer.</li><li>\\r\\r\\nSQL, AS400, Adobe Flex, Flash experience preferred.</li><li>\\r\\r\\nCreative problem solver.</li><li>\\r\\r\\nFundamental commitment to creating customer value through technical innovation.<br/>\\r\\r\\n</li></ul>, <p>\\r\\r\\nBachelor’s degree in related field or 8 to 11 years of experience.</p>, <p><b>\\r\\r\\nABOUT THE DEPARTMENT</b></p>, <p><b>\\r\\r\\nABOUT EXPRESS SCRIPTS</b></p>, <p>\\r\\r\\nAdvance your career with the company that makes it easier for people to choose better health.</p>, <p>\\r\\r\\nExpress Scripts is a leading healthcare company serving tens of millions of consumers. We are looking for individuals who are passionate, creative and committed to creating systems and service solutions that promote better health outcomes. Join the company that Fortune magazine ranked as one of the \"Most Admired Companies\" in the pharmacy category. Then, use your intelligence, creativity, integrity and hard work to help us enhance our products and services. We offer a highly competitive base salary and a comprehensive benefits program, including medical, prescription drug, dental, vision, 401(k) with company match, life insurance, paid time off, tuition assistance and an employee stock purchase plan.</p>, <p>\\r\\r\\nExpress Scripts is an equal opportunity employer/disability/veteran</p>]'"
      ]
     },
     "execution_count": 8,
     "metadata": {},
     "output_type": "execute_result"
    }
   ],
   "source": [
    "df['Description'].iloc[0]"
   ]
  },
  {
   "attachments": {},
   "cell_type": "markdown",
   "metadata": {},
   "source": [
    "We need to clean the data by removing irrelevant information.  "
   ]
  },
  {
   "cell_type": "code",
   "execution_count": 17,
   "metadata": {},
   "outputs": [],
   "source": [
    "def clean_text(raw):\n",
    "    '''Clean text from html tags, brackets, new lines, and duplicate whitespace.'''\n",
    "    try:\n",
    "        # remove new lines\n",
    "        raw = raw.replace('\\r', '')\n",
    "        raw = raw.replace('\\n', '')\n",
    "        \n",
    "        # brackets appear in all instances\n",
    "        raw = raw.replace('[', '')\n",
    "        raw = raw.replace(']', '')\n",
    "        raw = raw.replace(')', '')\n",
    "        raw = raw.replace('(', '')\n",
    "        \n",
    "        # removing html tags\n",
    "        clean_html = re.compile('<.*?>')\n",
    "        clean_text = re.sub(clean_html, ' ', raw)\n",
    "        \n",
    "        # removing duplicate whitespace in between words\n",
    "        clean_text = re.sub(\" +\", \" \", clean_text) \n",
    "        \n",
    "        # stripping first and last white space \n",
    "        clean_text = clean_text.strip()\n",
    "        \n",
    "        # commas had multiple spaces before and after in each instance\n",
    "        clean_text = re.sub(\" , \", \", \", clean_text) \n",
    "        \n",
    "        # eliminating the extra comma after a period\n",
    "        clean_text = clean_text.replace('.,', '.')\n",
    "        \n",
    "        # using try and except due to Nan in the column\n",
    "    except:\n",
    "        clean_text = np.nan\n",
    "        \n",
    "    return clean_text"
   ]
  },
  {
   "cell_type": "code",
   "execution_count": 29,
   "metadata": {},
   "outputs": [
    {
     "data": {
      "text/plain": [
       "'POSITION SUMMARY, The Business Analyst role is the primary architect of reporting and dashboard solutions for internal and external clients. Utilizing ESI corporate standard development tools this position is responsible for the design, development, implementation, analysis, interpretation and communication of business information based on the needs of individual clients. The ability to balance overall aesthetics with robust and intuitive functionality is a critical requirement for success in this position. ESSENTIAL FUNCTIONS, Successfully design and implement external client data reporting and dashboard solutions with a strong focus on product aesthetics and functionality. Aid in the design, development, and implementation of new product ideas for external and internal clients. Maintain Live and Data Warehouse Business Objects Universes; add new fields, modify table joins, implement data structures that streamline report extraction and data analysis. Develop and document best practices for all points throughout the design and implementation process. Coordinate and interface with Account Management and Implementation teams to gather product design requirements and provide insight into capabilities and solutions. Research and present new software and technology solutions to other internal developers, as well as management, to allow for the evaluation and potential integration of new development tools. QUALIFICATIONS, Bachelor’s degree in related field or 8 to 11 years of experience. 2-5 years relevant experience with Bachelor’s Degree or Master’s degree and 0-3 years of relevant experience. Recent experience creating Business Objects XI reports. Designing data visualization applications using SAP Xcelsius 2008 software. Designing, implementing and maintaining data universe structures using Business Objects Universe Designer. SQL, AS400, Adobe Flex, Flash experience preferred. Creative problem solver. Fundamental commitment to creating customer value through technical innovation. Bachelor’s degree in related field or 8 to 11 years of experience. ABOUT THE DEPARTMENT, ABOUT EXPRESS SCRIPTS, Advance your career with the company that makes it easier for people to choose better health. Express Scripts is a leading healthcare company serving tens of millions of consumers. We are looking for individuals who are passionate, creative and committed to creating systems and service solutions that promote better health outcomes. Join the company that Fortune magazine ranked as one of the \"Most Admired Companies\" in the pharmacy category. Then, use your intelligence, creativity, integrity and hard work to help us enhance our products and services. We offer a highly competitive base salary and a comprehensive benefits program, including medical, prescription drug, dental, vision, 401k with company match, life insurance, paid time off, tuition assistance and an employee stock purchase plan. Express Scripts is an equal opportunity employer/disability/veteran'"
      ]
     },
     "execution_count": 29,
     "metadata": {},
     "output_type": "execute_result"
    }
   ],
   "source": [
    "df_desc = df.Description.apply(clean_text)\n",
    "df_desc.iloc[0]"
   ]
  },
  {
   "cell_type": "code",
   "execution_count": 30,
   "metadata": {},
   "outputs": [],
   "source": [
    "# change the type from series to df and drop all missing values total: 301 missing descriptions\n",
    "df_desc = pd.DataFrame(df_desc)\n",
    "df_desc.dropna(inplace = True)\n",
    "df_desc.reset_index(inplace = True, drop = True)"
   ]
  },
  {
   "attachments": {},
   "cell_type": "markdown",
   "metadata": {},
   "source": [
    "## Tokenize text data"
   ]
  },
  {
   "cell_type": "code",
   "execution_count": 35,
   "metadata": {},
   "outputs": [],
   "source": [
    "# create a temp column for lowercased description\n",
    "df_desc['lower_description'] = df_desc.Description.str.lower()\n",
    "# regexp tokenizer eliminates the punctuation for the word count and is faster than word_tokenizer\n",
    "tokenizer = RegexpTokenizer(r\"\\w+\")\n",
    "df_desc['word_tokenized'] = df_desc.lower_description.apply(lambda row: tokenizer.tokenize(row))"
   ]
  },
  {
   "cell_type": "code",
   "execution_count": 36,
   "metadata": {},
   "outputs": [
    {
     "data": {
      "text/plain": [
       "0    [position, summary, the, business, analyst, ro...\n",
       "1    [what, do, we, need, you, to, have, an, amazin...\n",
       "2    [validate, analyze, and, conduct, statistical,...\n",
       "3    [full, time, washington, dc, metro, area, star...\n",
       "4    [assist, in, consultations, with, business, pa...\n",
       "Name: word_tokenized, dtype: object"
      ]
     },
     "execution_count": 36,
     "metadata": {},
     "output_type": "execute_result"
    }
   ],
   "source": [
    "df_desc.word_tokenized.head()"
   ]
  },
  {
   "cell_type": "code",
   "execution_count": 38,
   "metadata": {},
   "outputs": [
    {
     "data": {
      "text/plain": [
       "<Figure size 864x360 with 0 Axes>"
      ]
     },
     "metadata": {},
     "output_type": "display_data"
    },
    {
     "data": {
      "image/png": "[encoded data removed]",
      "text/plain": [
       "<Figure size 360x360 with 1 Axes>"
      ]
     },
     "metadata": {
      "needs_background": "light"
     },
     "output_type": "display_data"
    }
   ],
   "source": [
    "# obtains a word count for each individual job description \n",
    "df_desc['word_count'] = df_desc.word_tokenized.str.len()\n",
    "plt.figure(figsize = (12,5))\n",
    "sns.displot(df_desc['word_count'])\n",
    "plt.title('Word Count Distribution', size = 25);"
   ]
  },
  {
   "attachments": {},
   "cell_type": "markdown",
   "metadata": {},
   "source": [
    "## Remove stop words"
   ]
  },
  {
   "cell_type": "code",
   "execution_count": null,
   "metadata": {},
   "outputs": [],
   "source": [
    "# tokenize the text and remove stop words\n",
    "def tokenize_text(data):\n",
    "    nlp = spacy.load('en_core_web_sm')\n",
    "    data['job_description'] = data['job_description'].apply(lambda x: nlp(x))\n",
    "    data['job_description'] = data['job_description'].apply(lambda x: [token.lemma_ for token in x if not token.is_stop and not token.is_punct and not token.is_digit and not token.is_space])\n",
    "\n",
    "    return data"
   ]
  },
  {
   "cell_type": "code",
   "execution_count": 40,
   "metadata": {},
   "outputs": [
    {
     "data": {
      "text/html": [
       "<div>\n",
       "<style scoped>\n",
       "    .dataframe tbody tr th:only-of-type {\n",
       "        vertical-align: middle;\n",
       "    }\n",
       "\n",
       "    .dataframe tbody tr th {\n",
       "        vertical-align: top;\n",
       "    }\n",
       "\n",
       "    .dataframe thead th {\n",
       "        text-align: right;\n",
       "    }\n",
       "</style>\n",
       "<table border=\"1\" class=\"dataframe\">\n",
       "  <thead>\n",
       "    <tr style=\"text-align: right;\">\n",
       "      <th></th>\n",
       "      <th>Description</th>\n",
       "      <th>lower_description</th>\n",
       "      <th>word_tokenized</th>\n",
       "      <th>word_count</th>\n",
       "    </tr>\n",
       "  </thead>\n",
       "  <tbody>\n",
       "    <tr>\n",
       "      <th>0</th>\n",
       "      <td>POSITION SUMMARY, The Business Analyst role is...</td>\n",
       "      <td>position summary, the business analyst role is...</td>\n",
       "      <td>[position, summary, the, business, analyst, ro...</td>\n",
       "      <td>424</td>\n",
       "    </tr>\n",
       "    <tr>\n",
       "      <th>1</th>\n",
       "      <td>What do we need?, You to have an amazing perso...</td>\n",
       "      <td>what do we need?, you to have an amazing perso...</td>\n",
       "      <td>[what, do, we, need, you, to, have, an, amazin...</td>\n",
       "      <td>286</td>\n",
       "    </tr>\n",
       "    <tr>\n",
       "      <th>2</th>\n",
       "      <td>Validate, analyze, and conduct statistical ana...</td>\n",
       "      <td>validate, analyze, and conduct statistical ana...</td>\n",
       "      <td>[validate, analyze, and, conduct, statistical,...</td>\n",
       "      <td>314</td>\n",
       "    </tr>\n",
       "    <tr>\n",
       "      <th>3</th>\n",
       "      <td>Full time, Washington, DC metro area, Starting...</td>\n",
       "      <td>full time, washington, dc metro area, starting...</td>\n",
       "      <td>[full, time, washington, dc, metro, area, star...</td>\n",
       "      <td>297</td>\n",
       "    </tr>\n",
       "    <tr>\n",
       "      <th>4</th>\n",
       "      <td>Assist in consultations with business partners...</td>\n",
       "      <td>assist in consultations with business partners...</td>\n",
       "      <td>[assist, in, consultations, with, business, pa...</td>\n",
       "      <td>316</td>\n",
       "    </tr>\n",
       "  </tbody>\n",
       "</table>\n",
       "</div>"
      ],
      "text/plain": [
       "                                         Description  \\\n",
       "0  POSITION SUMMARY, The Business Analyst role is...   \n",
       "1  What do we need?, You to have an amazing perso...   \n",
       "2  Validate, analyze, and conduct statistical ana...   \n",
       "3  Full time, Washington, DC metro area, Starting...   \n",
       "4  Assist in consultations with business partners...   \n",
       "\n",
       "                                   lower_description  \\\n",
       "0  position summary, the business analyst role is...   \n",
       "1  what do we need?, you to have an amazing perso...   \n",
       "2  validate, analyze, and conduct statistical ana...   \n",
       "3  full time, washington, dc metro area, starting...   \n",
       "4  assist in consultations with business partners...   \n",
       "\n",
       "                                      word_tokenized  word_count  \n",
       "0  [position, summary, the, business, analyst, ro...         424  \n",
       "1  [what, do, we, need, you, to, have, an, amazin...         286  \n",
       "2  [validate, analyze, and, conduct, statistical,...         314  \n",
       "3  [full, time, washington, dc, metro, area, star...         297  \n",
       "4  [assist, in, consultations, with, business, pa...         316  "
      ]
     },
     "execution_count": 40,
     "metadata": {},
     "output_type": "execute_result"
    }
   ],
   "source": [
    "df_desc.head()"
   ]
  },
  {
   "cell_type": "code",
   "execution_count": 46,
   "metadata": {},
   "outputs": [
    {
     "data": {
      "text/plain": [
       "set"
      ]
     },
     "execution_count": 46,
     "metadata": {},
     "output_type": "execute_result"
    }
   ],
   "source": []
  },
  {
   "cell_type": "code",
   "execution_count": 58,
   "metadata": {},
   "outputs": [],
   "source": [
    "def stopword_removal(text):\n",
    "    stop_words = set(stopwords.words('english'))\n",
    "    cleaned = [word for word in text if word not in stop_words]\n",
    "    return cleaned\n",
    "\n",
    "df_desc['clean_words'] = df_desc.word_tokenized.apply(stopword_removal)"
   ]
  },
  {
   "attachments": {},
   "cell_type": "markdown",
   "metadata": {},
   "source": [
    "## Lemmatization"
   ]
  },
  {
   "cell_type": "code",
   "execution_count": 61,
   "metadata": {},
   "outputs": [],
   "source": [
    "def lemming(text):\n",
    "    lemmatizer = WordNetLemmatizer()\n",
    "    lemmed = [lemmatizer.lemmatize(word) for word in text]\n",
    "    return lemmed\n",
    "\n",
    "df_desc['clean_lemmed'] = df_desc.clean_words.apply(lemming)"
   ]
  },
  {
   "cell_type": "code",
   "execution_count": 64,
   "metadata": {},
   "outputs": [
    {
     "data": {
      "text/plain": [
       "0       [position, summary, the, business, analyst, ro...\n",
       "1       [what, do, we, need, you, to, have, an, amazin...\n",
       "2       [validate, analyze, and, conduct, statistical,...\n",
       "3       [full, time, washington, dc, metro, area, star...\n",
       "4       [assist, in, consultations, with, business, pa...\n",
       "                              ...                        \n",
       "5408    [as, a, data, software, engineer, you, will, f...\n",
       "5409    [want, to, change, the, world, how, about, con...\n",
       "5410    [identify, and, solve, hybrid, cloud, data, en...\n",
       "5411    [at, capital, one, we, re, building, a, leadin...\n",
       "5412    [develops, parallel, data, intensive, systems,...\n",
       "Name: word_tokenized, Length: 5413, dtype: object"
      ]
     },
     "execution_count": 64,
     "metadata": {},
     "output_type": "execute_result"
    }
   ],
   "source": [
    "df_desc.word_tokenized"
   ]
  },
  {
   "cell_type": "code",
   "execution_count": 69,
   "metadata": {},
   "outputs": [
    {
     "data": {
      "text/html": [
       "<div>\n",
       "<style scoped>\n",
       "    .dataframe tbody tr th:only-of-type {\n",
       "        vertical-align: middle;\n",
       "    }\n",
       "\n",
       "    .dataframe tbody tr th {\n",
       "        vertical-align: top;\n",
       "    }\n",
       "\n",
       "    .dataframe thead th {\n",
       "        text-align: right;\n",
       "    }\n",
       "</style>\n",
       "<table border=\"1\" class=\"dataframe\">\n",
       "  <thead>\n",
       "    <tr style=\"text-align: right;\">\n",
       "      <th></th>\n",
       "      <th>Description</th>\n",
       "      <th>lower_description</th>\n",
       "      <th>word_tokenized</th>\n",
       "      <th>word_count</th>\n",
       "      <th>clean_words</th>\n",
       "      <th>clean_lemmed</th>\n",
       "    </tr>\n",
       "  </thead>\n",
       "  <tbody>\n",
       "    <tr>\n",
       "      <th>0</th>\n",
       "      <td>POSITION SUMMARY, The Business Analyst role is...</td>\n",
       "      <td>position summary, the business analyst role is...</td>\n",
       "      <td>[position, summary, the, business, analyst, ro...</td>\n",
       "      <td>424</td>\n",
       "      <td>[position, summary, business, analyst, role, p...</td>\n",
       "      <td>[position, summary, business, analyst, role, p...</td>\n",
       "    </tr>\n",
       "    <tr>\n",
       "      <th>1</th>\n",
       "      <td>What do we need?, You to have an amazing perso...</td>\n",
       "      <td>what do we need?, you to have an amazing perso...</td>\n",
       "      <td>[what, do, we, need, you, to, have, an, amazin...</td>\n",
       "      <td>286</td>\n",
       "      <td>[need, amazing, personality, communication, st...</td>\n",
       "      <td>[need, amazing, personality, communication, st...</td>\n",
       "    </tr>\n",
       "    <tr>\n",
       "      <th>2</th>\n",
       "      <td>Validate, analyze, and conduct statistical ana...</td>\n",
       "      <td>validate, analyze, and conduct statistical ana...</td>\n",
       "      <td>[validate, analyze, and, conduct, statistical,...</td>\n",
       "      <td>314</td>\n",
       "      <td>[validate, analyze, conduct, statistical, anal...</td>\n",
       "      <td>[validate, analyze, conduct, statistical, anal...</td>\n",
       "    </tr>\n",
       "    <tr>\n",
       "      <th>3</th>\n",
       "      <td>Full time, Washington, DC metro area, Starting...</td>\n",
       "      <td>full time, washington, dc metro area, starting...</td>\n",
       "      <td>[full, time, washington, dc, metro, area, star...</td>\n",
       "      <td>297</td>\n",
       "      <td>[full, time, washington, dc, metro, area, star...</td>\n",
       "      <td>[full, time, washington, dc, metro, area, star...</td>\n",
       "    </tr>\n",
       "    <tr>\n",
       "      <th>4</th>\n",
       "      <td>Assist in consultations with business partners...</td>\n",
       "      <td>assist in consultations with business partners...</td>\n",
       "      <td>[assist, in, consultations, with, business, pa...</td>\n",
       "      <td>316</td>\n",
       "      <td>[assist, consultations, business, partners, in...</td>\n",
       "      <td>[assist, consultation, business, partner, inte...</td>\n",
       "    </tr>\n",
       "  </tbody>\n",
       "</table>\n",
       "</div>"
      ],
      "text/plain": [
       "                                         Description  \\\n",
       "0  POSITION SUMMARY, The Business Analyst role is...   \n",
       "1  What do we need?, You to have an amazing perso...   \n",
       "2  Validate, analyze, and conduct statistical ana...   \n",
       "3  Full time, Washington, DC metro area, Starting...   \n",
       "4  Assist in consultations with business partners...   \n",
       "\n",
       "                                   lower_description  \\\n",
       "0  position summary, the business analyst role is...   \n",
       "1  what do we need?, you to have an amazing perso...   \n",
       "2  validate, analyze, and conduct statistical ana...   \n",
       "3  full time, washington, dc metro area, starting...   \n",
       "4  assist in consultations with business partners...   \n",
       "\n",
       "                                      word_tokenized  word_count  \\\n",
       "0  [position, summary, the, business, analyst, ro...         424   \n",
       "1  [what, do, we, need, you, to, have, an, amazin...         286   \n",
       "2  [validate, analyze, and, conduct, statistical,...         314   \n",
       "3  [full, time, washington, dc, metro, area, star...         297   \n",
       "4  [assist, in, consultations, with, business, pa...         316   \n",
       "\n",
       "                                         clean_words  \\\n",
       "0  [position, summary, business, analyst, role, p...   \n",
       "1  [need, amazing, personality, communication, st...   \n",
       "2  [validate, analyze, conduct, statistical, anal...   \n",
       "3  [full, time, washington, dc, metro, area, star...   \n",
       "4  [assist, consultations, business, partners, in...   \n",
       "\n",
       "                                        clean_lemmed  \n",
       "0  [position, summary, business, analyst, role, p...  \n",
       "1  [need, amazing, personality, communication, st...  \n",
       "2  [validate, analyze, conduct, statistical, anal...  \n",
       "3  [full, time, washington, dc, metro, area, star...  \n",
       "4  [assist, consultation, business, partner, inte...  "
      ]
     },
     "execution_count": 69,
     "metadata": {},
     "output_type": "execute_result"
    }
   ],
   "source": [
    "df_desc.head()"
   ]
  },
  {
   "attachments": {},
   "cell_type": "markdown",
   "metadata": {},
   "source": [
    "## Training data\n",
    "Using rule-based skill extraction is very cumbersome and every time a new example is added we might need to update the rules. This is where the machine learning shines. To use machine learning for this problem, first we need to create annotated training data. The best approach is annotating the data manually but here we use spaCy to annotate data. Other option is to use openai gpt3 to annotate the files.\n",
    "Here is the code that shows how to do it.\n",
    "\n",
    "```import os\n",
    "import openai\n",
    "\n",
    "openai.api_key = os.getenv(\"OPENAI_API_KEY\")\n",
    "text = \"I use python everyday\"\n",
    "prompt = \"Extract skills from {text}\"\n",
    "\n",
    "completion = openai.Completion.create(\n",
    "    engine=\"text-davinci-003\",\n",
    "    prompt=prompt,\n",
    "    max_tokens=100,\n",
    "    n=1,\n",
    "    stop=None,\n",
    "    temperature=0.7,\n",
    "    top_p=1.0,\n",
    "    frequency_penalty=0.0,\n",
    "    presence_penalty=0.0,\n",
    ")\n",
    "\n",
    "print(completion.choices[0].text.strip())```"
   ]
  },
  {
   "cell_type": "code",
   "execution_count": 78,
   "metadata": {},
   "outputs": [],
   "source": [
    "import spacy\n",
    "from spacy.matcher import PhraseMatcher\n",
    "from spacy.tokens import DocBin, Span\n",
    "from spacy.language import Language\n",
    "\n",
    "nlp = spacy.load(\"en_core_web_sm\")\n",
    "skill_patterns = []\n",
    "\n",
    "# Read the list of skills from the file\n",
    "with open('data/LINKEDIN_SKILLS_ORIGINAL.txt', 'r', encoding='utf-8') as f:\n",
    "    for line in f:\n",
    "        skill_patterns.append(nlp(line.strip().lower()))\n",
    "\n",
    "matcher = PhraseMatcher(nlp.vocab)\n",
    "matcher.add(\"SKILL\", skill_patterns)\n",
    "\n",
    "# Define the custom component\n",
    "@Language.component(\"skill_component\")\n",
    "def skill_component_function(doc):\n",
    "    matches = matcher(doc)\n",
    "    matches = sorted(matches, key=lambda match: match[2] - match[1], reverse=True)\n",
    "    seen_tokens = set()\n",
    "    spans = []\n",
    "    for match_id, start, end in matches:\n",
    "        if any(token.i in seen_tokens for token in doc[start:end]):\n",
    "            continue\n",
    "        seen_tokens.update(range(start, end))\n",
    "        span = Span(doc, start, end, label=\"SKILL\")\n",
    "        spans.append(span)\n",
    "    doc.ents = spans\n",
    "    return doc"
   ]
  },
  {
   "cell_type": "code",
   "execution_count": 79,
   "metadata": {},
   "outputs": [
    {
     "name": "stdout",
     "output_type": "stream",
     "text": [
      "Annotations saved to annotated_file.spacy\n",
      "['tok2vec', 'tagger', 'parser', 'attribute_ruler', 'lemmatizer', 'ner', 'skill_component']\n"
     ]
    }
   ],
   "source": [
    "\n",
    "\n",
    "# Add the custom component to the pipeline after the \"ner\" component\n",
    "nlp.add_pipe(\"skill_component\", after=\"ner\")\n",
    "\n",
    "# Process the DataFrame column and save the annotations using DocBin\n",
    "docs = list(nlp.pipe(df_desc['lower_description'].values))\n",
    "doc_bin = DocBin(docs=docs)\n",
    "doc_bin.to_disk(\"annotated_file.spacy\")\n",
    "\n",
    "print(\"Annotations saved to annotated_file.spacy\")\n",
    "print(nlp.pipe_names)"
   ]
  },
  {
   "attachments": {},
   "cell_type": "markdown",
   "metadata": {},
   "source": [
    "We split the data into training and development sets, with 80% of the data allocated to the training set and the remaining 20% assigned to the development set\n",
    "which is common practice when we do not have big data."
   ]
  },
  {
   "cell_type": "code",
   "execution_count": 80,
   "metadata": {},
   "outputs": [],
   "source": [
    "from sklearn.model_selection import train_test_split\n",
    "\n",
    "# Load the original DocBin file\n",
    "doc_bin = DocBin().from_disk(\"annotated_file.spacy\")\n",
    "\n",
    "# Convert DocBin to list of Doc objects\n",
    "docs = list(doc_bin.get_docs(nlp.vocab))\n",
    "\n",
    "# Split the data into train and test sets\n",
    "train_docs, test_docs = train_test_split(docs, test_size=0.2, random_state=42)\n",
    "\n",
    "# Create DocBins for train and test sets\n",
    "train_doc_bin = DocBin(docs=train_docs)\n",
    "test_doc_bin = DocBin(docs=test_docs)\n",
    "\n",
    "# Save the train and test DocBins\n",
    "train_doc_bin.to_disk(\"data/train_data.spacy\")\n",
    "test_doc_bin.to_disk(\"data/test_data.spacy\")"
   ]
  },
  {
   "attachments": {},
   "cell_type": "markdown",
   "metadata": {},
   "source": [
    "# Machine Learning Model"
   ]
  },
  {
   "attachments": {},
   "cell_type": "markdown",
   "metadata": {},
   "source": [
    "Rule-based matching for skills is not ideal for generalizing because it relies on predefined patterns and may struggle with unseen data. To achieve better performance and adaptability, machine learning is the preferred approach. In this case, we utilize spaCy, specifically its pipelines for `tok2vec` and `ner`, to train a model capable of predicting and extracting skills.\n",
    "\n",
    "`tok2vec` is a powerful component in spaCy's pipeline due to its contextual understanding, making it superior in terms of semantic similarity compared to Word2Vec, another popular word embedding method. Moreover, contextual embeddings can be pretrained on domain-specific data, enabling them to capture domain-specific language patterns and enhance performance on specific domains or tasks.\n",
    "\n",
    "We store the hyperparameters and configurations in the `config.cfg` file. For this model, we have chosen a learning rate of 0.001, Adam optimizer, and a dropout rate of 0.1. However, to further optimize the model's performance, it is crucial to conduct hyperparameter tuning. This involves trying different combinations of hyperparameters and performing grid search to identify the best parameter set that yields optimal results.\n",
    "\n",
    "To facilitate hyperparameter tuning, we split the data into training, development, and testing sets, allocating 60% for training, 20% for development, and 20% for testing. Through iterative experimentation, we can assess the model's performance with various parameter configurations and select the most effective one.\n",
    "\n",
    "Given that this is a prototype and proof of concept, our focus will primarily be on developing and evaluating the model."
   ]
  },
  {
   "cell_type": "code",
   "execution_count": 81,
   "metadata": {},
   "outputs": [
    {
     "name": "stdout",
     "output_type": "stream",
     "text": [
      "\u001b[38;5;2m✔ Auto-filled config with all values\u001b[0m\n",
      "\u001b[38;5;2m✔ Saved config\u001b[0m\n",
      "data\\config.cfg\n",
      "You can now add your data and train your pipeline:\n",
      "python -m spacy train config.cfg --paths.train ./train.spacy --paths.dev ./dev.spacy\n"
     ]
    }
   ],
   "source": [
    "!python -m spacy init fill-config data/base_config.cfg data/config.cfg"
   ]
  },
  {
   "cell_type": "code",
   "execution_count": 83,
   "metadata": {},
   "outputs": [
    {
     "name": "stdout",
     "output_type": "stream",
     "text": [
      "\u001b[38;5;4mℹ Saving to output directory: output\u001b[0m\n",
      "\u001b[38;5;4mℹ Using CPU\u001b[0m\n",
      "\u001b[1m\n",
      "=========================== Initializing pipeline ===========================\u001b[0m\n",
      "\u001b[38;5;2m✔ Initialized pipeline\u001b[0m\n",
      "\u001b[1m\n",
      "============================= Training pipeline =============================\u001b[0m\n",
      "\u001b[38;5;4mℹ Pipeline: ['tok2vec', 'ner']\u001b[0m\n",
      "\u001b[38;5;4mℹ Initial learn rate: 0.001\u001b[0m\n",
      "E    #       LOSS TOK2VEC  LOSS NER  ENTS_F  ENTS_P  ENTS_R  SCORE \n",
      "---  ------  ------------  --------  ------  ------  ------  ------\n",
      "  0       0          0.00    111.67    3.35    3.03    3.73    0.03\n",
      "  0     200        353.99  12909.47   80.87   85.79   76.48    0.81\n",
      "  0     400        344.26   5441.83   84.44   85.69   83.23    0.84\n",
      "  0     600        324.30   4464.79   86.28   91.33   81.76    0.86\n",
      "  0     800        306.16   4126.24   86.59   87.22   85.98    0.87\n",
      "  0    1000        252.85   3166.26   89.40   91.04   87.82    0.89\n",
      "  0    1200        284.27   3018.98   90.23   91.81   88.71    0.90\n",
      "  0    1400        265.48   2787.42   90.45   92.34   88.63    0.90\n",
      "  0    1600        279.25   2892.34   91.26   93.86   88.80    0.91\n",
      "  0    1800        323.64   2618.97   91.85   93.88   89.91    0.92\n",
      "  0    2000        313.77   2661.23   91.80   91.99   91.61    0.92\n",
      "  0    2200        298.71   2339.87   92.72   94.37   91.12    0.93\n",
      "  0    2400        279.49   2253.72   92.84   93.37   92.33    0.93\n",
      "  0    2600        322.88   2282.03   92.32   92.49   92.15    0.92\n",
      "  0    2800        328.91   2633.57   93.07   93.43   92.71    0.93\n",
      "  0    3000        324.29   2265.84   92.69   93.14   92.25    0.93\n",
      "  0    3200        352.07   2069.23   93.75   94.78   92.74    0.94\n",
      "  0    3400        350.83   2122.95   93.81   95.13   92.53    0.94\n",
      "  0    3600        332.92   2153.94   94.06   95.11   93.05    0.94\n",
      "  0    3800        340.60   1903.48   93.75   95.48   92.07    0.94\n",
      "  0    4000        385.04   1832.97   94.33   95.53   93.17    0.94\n",
      "  0    4200        440.61   1985.83   94.57   95.80   93.38    0.95\n",
      "  1    4400        431.78   1722.52   94.68   95.30   94.07    0.95\n",
      "  1    4600        505.08   1534.00   94.58   94.84   94.32    0.95\n",
      "  1    4800        427.76   1582.56   94.64   95.34   93.95    0.95\n",
      "  1    5000        426.31   1512.21   94.89   95.57   94.21    0.95\n",
      "  1    5200        464.62   1479.80   94.28   95.16   93.42    0.94\n",
      "  1    5400        543.84   1801.17   95.04   95.49   94.59    0.95\n",
      "  1    5600        485.86   1515.72   95.01   95.25   94.77    0.95\n",
      "  1    5800        530.91   1438.48   95.25   95.96   94.55    0.95\n",
      "  1    6000        607.94   1530.27   95.11   96.03   94.20    0.95\n",
      "  1    6200        682.59   1532.83   95.37   95.92   94.82    0.95\n",
      "  1    6400        590.57   1318.45   95.34   96.59   94.12    0.95\n",
      "  1    6600        606.47   1303.19   95.41   95.84   94.99    0.95\n",
      "  1    6800        696.96   1292.80   95.63   96.10   95.17    0.96\n",
      "  1    7000        614.00   1257.94   95.51   96.57   94.47    0.96\n",
      "  1    7200        694.70   1338.19   95.50   96.42   94.60    0.95\n",
      "  1    7400        863.25   1557.24   95.84   96.58   95.11    0.96\n",
      "  1    7600        745.49   1319.50   95.70   96.63   94.79    0.96\n",
      "  1    7800        932.14   1471.32   95.72   96.08   95.36    0.96\n",
      "  1    8000        880.75   1507.63   95.76   96.22   95.30    0.96\n",
      "  1    8200        902.78   1442.54   95.99   96.62   95.37    0.96\n",
      "  2    8400        889.80   1639.91   96.02   96.43   95.61    0.96\n",
      "  2    8600       1005.67   1493.79   96.01   96.42   95.61    0.96\n",
      "  2    8800       1010.08   1501.13   96.38   96.66   96.10    0.96\n",
      "  2    9000       1130.96   1530.21   96.38   96.85   95.91    0.96\n",
      "  2    9200       1177.87   1666.83   96.18   96.74   95.62    0.96\n",
      "  2    9400       1144.80   1587.71   96.50   97.07   95.94    0.97\n",
      "  2    9600       1162.50   1732.75   96.51   97.20   95.83    0.97\n",
      "  2    9800       1147.32   1590.60   96.57   97.07   96.08    0.97\n",
      "  2   10000       1070.05   1561.31   96.66   97.11   96.21    0.97\n",
      "  2   10200       1735.04   1672.56   96.75   97.13   96.38    0.97\n",
      "  2   10400       1447.55   1365.15   96.71   96.77   96.66    0.97\n",
      "  2   10600       1196.39   1551.27   96.78   97.10   96.46    0.97\n",
      "  2   10800       1131.64   1519.84   96.81   97.11   96.53    0.97\n",
      "  3   11000        994.37   1327.40   96.97   97.40   96.54    0.97\n",
      "  3   11200       1267.63   1318.74   96.78   97.10   96.45    0.97\n",
      "  3   11400       1064.31   1158.78   96.90   97.35   96.46    0.97\n",
      "  3   11600       1177.61   1311.96   96.81   96.93   96.69    0.97\n",
      "  3   11800       1209.79   1243.28   96.96   97.11   96.80    0.97\n",
      "  3   12000       1419.71   1251.09   96.99   97.50   96.49    0.97\n",
      "  3   12200       4315.42   1291.44   97.12   97.40   96.83    0.97\n",
      "  3   12400       1209.38   1157.97   97.05   97.23   96.87    0.97\n",
      "  3   12600       1448.48   1218.02   97.08   97.39   96.77    0.97\n",
      "  3   12800       1338.71   1275.57   97.07   97.72   96.44    0.97\n",
      "  3   13000       1445.28   1317.66   97.13   97.76   96.51    0.97\n",
      "  3   13200       1405.63   1122.30   96.87   96.92   96.82    0.97\n",
      "  3   13400       1636.34   1317.01   97.26   97.58   96.94    0.97\n",
      "  4   13600       1234.90   1067.56   97.03   97.38   96.67    0.97\n",
      "  4   13800       1679.64   1014.03   97.12   97.37   96.87    0.97\n",
      "  4   14000       1409.94   1068.82   97.03   97.43   96.64    0.97\n",
      "  4   14200       1662.85   1049.22   97.28   97.66   96.89    0.97\n",
      "  4   14400       2029.44   1135.35   97.05   96.98   97.11    0.97\n",
      "  4   14600       1653.99   1084.35   97.24   97.27   97.22    0.97\n",
      "  4   14800       1606.61    982.37   97.19   97.66   96.73    0.97\n",
      "  4   15000       1944.13   1210.59   97.32   97.56   97.09    0.97\n",
      "  4   15200       1989.19    972.60   97.24   97.37   97.11    0.97\n",
      "  4   15400       7146.41   1082.54   97.20   97.32   97.08    0.97\n",
      "  4   15600       2031.86   1137.86   97.30   97.61   96.99    0.97\n",
      "  4   15800       2252.36   1157.16   97.45   97.80   97.11    0.97\n",
      "  4   16000       2025.86   1039.12   97.36   97.54   97.18    0.97\n",
      "  5   16200       2030.55   1014.47   97.44   97.81   97.07    0.97\n",
      "  5   16400       2214.78    918.46   97.36   97.64   97.07    0.97\n",
      "  5   16600       2574.32    917.90   97.36   97.53   97.19    0.97\n",
      "  5   16800       1824.20    895.19   97.43   97.69   97.18    0.97\n",
      "  5   17000       2216.01   1048.24   97.38   97.67   97.09    0.97\n",
      "  5   17200       2182.68    928.46   97.44   97.56   97.33    0.97\n",
      "  5   17400       2409.94    963.30   97.45   97.74   97.15    0.97\n",
      "\u001b[38;5;2m✔ Saved pipeline to output directory\u001b[0m\n",
      "output\\model-last\n"
     ]
    },
    {
     "name": "stderr",
     "output_type": "stream",
     "text": [
      "[2023-05-18 07:24:26,337] [INFO] Set up nlp object from config\n",
      "[2023-05-18 07:24:26,348] [INFO] Pipeline: ['tok2vec', 'ner']\n",
      "[2023-05-18 07:24:26,352] [INFO] Created vocabulary\n",
      "[2023-05-18 07:24:26,352] [INFO] Finished initializing nlp object\n",
      "[2023-05-18 07:24:49,218] [INFO] Initialized pipeline components: ['tok2vec', 'ner']\n"
     ]
    }
   ],
   "source": [
    "!python -m spacy train data/config.cfg --output ./output --paths.train data/train_data.spacy --paths.dev data/test_data.spacy"
   ]
  },
  {
   "attachments": {},
   "cell_type": "markdown",
   "metadata": {},
   "source": [
    "The result of skill extraction using spaCy shows an improvement in performance over multiple iterations. The evaluation metrics, such as ENTS_F, ENTS_P, ENTS_R, and SCORE, indicate the accuracy and precision of the extracted skills.\n",
    "\n",
    "Based on the results, the model achieves an F1 score of around 97% after 5,000 iterations, indicating that it performs well in identifying and extracting skills from the text."
   ]
  },
  {
   "attachments": {},
   "cell_type": "markdown",
   "metadata": {},
   "source": [
    "## Evaluate the model"
   ]
  },
  {
   "cell_type": "code",
   "execution_count": null,
   "metadata": {},
   "outputs": [],
   "source": [
    "nlp = spacy.load('output/model-best')\n",
    "file = open('data/LINKEDIN_SKILLS_ORIGINAL.txt', 'r', encoding='utf-8')\n",
    "with open('cv_test.csv', 'r', encoding='utf-8') as f:\n",
    "    text = f.read()\n",
    "doc = nlp(text)\n",
    "          \n",
    "for ent in doc.ents:\n",
    "    print(ent.text, ent.label_)"
   ]
  },
  {
   "attachments": {},
   "cell_type": "markdown",
   "metadata": {},
   "source": [
    "Upon obtaining the results, it is essential to analyze the confusion matrix to gain insights into the model's performance. By examining the false positives and false negatives, we can identify areas for improvement. There are several approaches we can explore to enhance the model.\n",
    "\n",
    "Firstly, we can consider incorporating additional rules into the model to refine its predictions. These rules can help address specific patterns or exceptions that the model may struggle with, leading to improved accuracy.\n",
    "\n",
    "Secondly, leveraging a high-quality, comprehensive dataset can significantly impact the model's performance. By obtaining a well-curated and diverse dataset, we can provide the model with a more robust and representative sample, leading to better generalization and prediction capabilities.\n",
    "\n",
    "Additionally, transformer-based models, such as BERT, offer promising avenues for improvement. These models leverage advanced architectures and pre-trained contextual embeddings to capture intricate language patterns and semantic relationships effectively. Incorporating such models into the pipeline can potentially enhance the accuracy and overall performance of the skill extraction system.\n",
    "\n",
    "In summary, to enhance the model's performance, we can consider integrating additional rules, utilizing high-quality data, and exploring transformer-based models like BERT. By iteratively refining the system and leveraging these approaches, we can achieve better skill extraction results and improve overall accuracy."
   ]
  },
  {
   "attachments": {},
   "cell_type": "markdown",
   "metadata": {},
   "source": [
    "## Classifying skills"
   ]
  },
  {
   "attachments": {},
   "cell_type": "markdown",
   "metadata": {},
   "source": [
    "We label the skills and then encode the labels, use word embedding, and then we use transfer learning with BERT to train a model"
   ]
  },
  {
   "cell_type": "code",
   "execution_count": 96,
   "metadata": {},
   "outputs": [],
   "source": [
    "# with open('data/hard_skills/LINKEDIN_SKILLS_ORIGINAL.txt', 'r', encoding='utf-8') as f:\n",
    "#     linkedin_skills = f.read().splitlines()\n",
    "\n",
    "# with open('data/soft_skills/soft_skills0.txt', 'r', encoding='utf-8') as f:\n",
    "#     soft_skills = f.read().splitlines()\n",
    "\n",
    "# technical_skills = [skill for skill in linkedin_skills if skill not in soft_skills]\n",
    "\n",
    "# with open('technical.txt', 'w', encoding='utf-8') as f:\n",
    "#     for skill in technical_skills:\n",
    "#         f.write(skill + '\\n')        \n",
    "    "
   ]
  },
  {
   "cell_type": "code",
   "execution_count": 102,
   "metadata": {},
   "outputs": [
    {
     "data": {
      "application/vnd.jupyter.widget-view+json": {
       "model_id": "9b1620ab566f44059100d96887ba2653",
       "version_major": 2,
       "version_minor": 0
      },
      "text/plain": [
       "Downloading (…)solve/main/vocab.txt:   0%|          | 0.00/232k [00:00<?, ?B/s]"
      ]
     },
     "metadata": {},
     "output_type": "display_data"
    },
    {
     "name": "stderr",
     "output_type": "stream",
     "text": [
      "c:\\Users\\egha355\\Envs\\datascience\\lib\\site-packages\\huggingface_hub\\file_download.py:133: UserWarning: `huggingface_hub` cache-system uses symlinks by default to efficiently store duplicated files but your machine does not support them in C:\\Users\\egha355\\.cache\\huggingface\\hub. Caching files will still work but in a degraded version that might require more space on your disk. This warning can be disabled by setting the `HF_HUB_DISABLE_SYMLINKS_WARNING` environment variable. For more details, see https://huggingface.co/docs/huggingface_hub/how-to-cache#limitations.\n",
      "To support symlinks on Windows, you either need to activate Developer Mode or to run Python as an administrator. In order to see activate developer mode, see this article: https://docs.microsoft.com/en-us/windows/apps/get-started/enable-your-device-for-development\n",
      "  warnings.warn(message)\n"
     ]
    },
    {
     "data": {
      "application/vnd.jupyter.widget-view+json": {
       "model_id": "d3c2223994de4a59a637826cb4e9cdec",
       "version_major": 2,
       "version_minor": 0
      },
      "text/plain": [
       "Downloading (…)okenizer_config.json:   0%|          | 0.00/28.0 [00:00<?, ?B/s]"
      ]
     },
     "metadata": {},
     "output_type": "display_data"
    },
    {
     "data": {
      "application/vnd.jupyter.widget-view+json": {
       "model_id": "fce59ebdeac047e4b1fd760247004ae0",
       "version_major": 2,
       "version_minor": 0
      },
      "text/plain": [
       "Downloading (…)lve/main/config.json:   0%|          | 0.00/570 [00:00<?, ?B/s]"
      ]
     },
     "metadata": {},
     "output_type": "display_data"
    },
    {
     "data": {
      "application/vnd.jupyter.widget-view+json": {
       "model_id": "216d96fc85e04c84a084fa8cf41a6050",
       "version_major": 2,
       "version_minor": 0
      },
      "text/plain": [
       "Downloading pytorch_model.bin:   0%|          | 0.00/440M [00:00<?, ?B/s]"
      ]
     },
     "metadata": {},
     "output_type": "display_data"
    },
    {
     "name": "stderr",
     "output_type": "stream",
     "text": [
      "Some weights of the model checkpoint at bert-base-uncased were not used when initializing BertForSequenceClassification: ['cls.predictions.transform.dense.weight', 'cls.seq_relationship.weight', 'cls.predictions.transform.dense.bias', 'cls.predictions.transform.LayerNorm.weight', 'cls.predictions.transform.LayerNorm.bias', 'cls.predictions.decoder.weight', 'cls.predictions.bias', 'cls.seq_relationship.bias']\n",
      "- This IS expected if you are initializing BertForSequenceClassification from the checkpoint of a model trained on another task or with another architecture (e.g. initializing a BertForSequenceClassification model from a BertForPreTraining model).\n",
      "- This IS NOT expected if you are initializing BertForSequenceClassification from the checkpoint of a model that you expect to be exactly identical (initializing a BertForSequenceClassification model from a BertForSequenceClassification model).\n",
      "Some weights of BertForSequenceClassification were not initialized from the model checkpoint at bert-base-uncased and are newly initialized: ['classifier.bias', 'classifier.weight']\n",
      "You should probably TRAIN this model on a down-stream task to be able to use it for predictions and inference.\n",
      "c:\\Users\\egha355\\Envs\\datascience\\lib\\site-packages\\transformers\\optimization.py:391: FutureWarning: This implementation of AdamW is deprecated and will be removed in a future version. Use the PyTorch implementation torch.optim.AdamW instead, or set `no_deprecation_warning=True` to disable this warning\n",
      "  warnings.warn(\n"
     ]
    }
   ],
   "source": [
    "import pandas as pd\n",
    "import torch\n",
    "import transformers\n",
    "from sklearn.model_selection import train_test_split\n",
    "from transformers import BertTokenizer, BertForSequenceClassification, AdamW\n",
    "\n",
    "# Load and preprocess the data\n",
    "with open('data/hard_skills/technical.txt', 'r', encoding='utf-8') as f:\n",
    "    hard_skills = [line.strip() for line in f.readlines()]\n",
    "\n",
    "with open('data/soft_skills/soft_skills0.txt', 'r', encoding='utf-8') as f:\n",
    "    soft_skills = [line.strip() for line in f.readlines()]\n",
    "\n",
    "hard_skills_df = pd.DataFrame({'skill': hard_skills, 'label': 1})\n",
    "soft_skills_df = pd.DataFrame({'skill': soft_skills, 'label': 0})\n",
    "\n",
    "data = pd.concat([hard_skills_df, soft_skills_df], ignore_index=True)\n",
    "\n",
    "# Split the data into train and test sets\n",
    "train_data, test_data = train_test_split(data, test_size=0.2, random_state=42)\n",
    "\n",
    "# Load the BERT tokenizer and model\n",
    "tokenizer = BertTokenizer.from_pretrained('bert-base-uncased')\n",
    "model = BertForSequenceClassification.from_pretrained('bert-base-uncased', num_labels=2)\n",
    "\n",
    "# Tokenize the input data\n",
    "train_encodings = tokenizer(list(train_data['skill']), truncation=True, padding=True)\n",
    "test_encodings = tokenizer(list(test_data['skill']), truncation=True, padding=True)\n",
    "\n",
    "# Convert tokenized inputs to PyTorch tensors\n",
    "train_dataset = torch.utils.data.TensorDataset(torch.tensor(train_encodings['input_ids']),\n",
    "                                               torch.tensor(train_encodings['attention_mask']),\n",
    "                                               torch.tensor(train_data['label'].values))\n",
    "test_dataset = torch.utils.data.TensorDataset(torch.tensor(test_encodings['input_ids']),\n",
    "                                              torch.tensor(test_encodings['attention_mask']),\n",
    "                                              torch.tensor(test_data['label'].values))\n",
    "\n",
    "# Define the optimizer and training parameters\n",
    "optimizer = AdamW(model.parameters(), lr=1e-5)\n",
    "train_loader = torch.utils.data.DataLoader(train_dataset, batch_size=16, shuffle=True)\n",
    "\n",
    "# Train the model\n",
    "model.train()\n",
    "for epoch in range(3):\n",
    "    for batch in train_loader:\n",
    "        input_ids, attention_mask, labels = batch\n",
    "        optimizer.zero_grad()\n",
    "        outputs = model(input_ids, attention_mask=attention_mask, labels=labels)\n",
    "        loss = outputs.loss\n",
    "        loss.backward()\n",
    "        optimizer.step()\n",
    "\n",
    "# Evaluate the model on the test set\n",
    "model.eval()\n",
    "test_loader = torch.utils.data.DataLoader(test_dataset, batch_size=16, shuffle=False)\n",
    "total_correct = 0\n",
    "total_samples = 0\n",
    "with torch.no_grad():\n",
    "    for batch in test_loader:\n",
    "        input_ids, attention_mask, labels = batch\n",
    "        outputs = model(input_ids, attention_mask=attention_mask)\n",
    "        predicted_labels = torch.argmax(outputs.logits, dim=1)\n",
    "        total_correct += (predicted_labels == labels).sum().item()\n",
    "        total_samples += labels.size(0)\n",
    "accuracy = total_correct / total_samples\n",
    "\n",
    "print(f\"Accuracy on test set: {accuracy}\")"
   ]
  },
  {
   "attachments": {},
   "cell_type": "markdown",
   "metadata": {},
   "source": [
    "# Resume dataset"
   ]
  },
  {
   "attachments": {},
   "cell_type": "markdown",
   "metadata": {},
   "source": [
    "To show a prototype for skill extraction, I just did it on the job postings dataset that showed how it works. We could add resume data to the JPs but we should consider they shouldn't be imbalance otherwise the model learns one of them more than the other. we could do resume separetely as there are some rules to find different segments of the resume and get the relevant phrases. If we want to do it separately we can benefit from the rules below that extracts the skill segment. The code inspired by https://github.com/kbrajwani/resume_parser.git"
   ]
  },
  {
   "cell_type": "code",
   "execution_count": null,
   "metadata": {},
   "outputs": [],
   "source": [
    "\n",
    "from __future__ import division\n",
    "import nltk\n",
    "\n",
    "import re\n",
    "import os\n",
    "from datetime import date\n",
    "\n",
    "import nltk\n",
    "import docx2txt\n",
    "import pandas as pd\n",
    "from tika import parser\n",
    "\n",
    "import logging\n",
    "\n",
    "import spacy\n",
    "from spacy.matcher import Matcher\n",
    "from spacy.matcher import PhraseMatcher\n",
    "\n",
    "import sys\n",
    "import operator\n",
    "import string\n",
    "import nltk\n",
    "\n",
    "# load pre-trained model\n",
    "base_path = os.path.dirname(__file__)\n",
    "\n",
    "nlp = spacy.load('en_core_web_sm')\n",
    "\n",
    "file = os.path.join(base_path,\"LINKEDIN_SKILLS_ORIGINAL.txt\")\n",
    "file = open(file, \"r\", encoding='utf-8')    \n",
    "skill = [line.strip().lower() for line in file]\n",
    "skillsmatcher = PhraseMatcher(nlp.vocab)\n",
    "patterns = [nlp.make_doc(text) for text in skill if len(nlp.make_doc(text)) < 10]\n",
    "skillsmatcher.add(\"Job title\", None, *patterns)\n",
    "\n",
    "\n",
    "class SkillExtractor:\n",
    "    skills_header = (\n",
    "        'credentials',\n",
    "        'areas of experience',\n",
    "        'areas of expertise',\n",
    "        'areas of knowledge',\n",
    "        'skills',\n",
    "        \"other skills\",\n",
    "        \"other abilities\",\n",
    "        'career related skills',\n",
    "        'professional skills',\n",
    "        'specialized skills',\n",
    "        'technical skills',\n",
    "        'computer skills',\n",
    "        'personal skills',\n",
    "        'computer knowledge',        \n",
    "        'technologies',\n",
    "        'technical experience',\n",
    "        'proficiencies',\n",
    "        'languages',\n",
    "        'language competencies and skills',\n",
    "        'programming languages',\n",
    "        'competencies'\n",
    "    )\n",
    "\n",
    "           \n",
    "    def convert_docx_to_txt(docx_file,docx_parser):\n",
    "        \"\"\"\n",
    "            A utility function to convert a Microsoft docx files to raw text.\n",
    "\n",
    "            This code is largely borrowed from existing solutions, and does not match the style of the rest of this repo.\n",
    "            :param docx_file: docx file with gets uploaded by the user\n",
    "            :type docx_file: InMemoryUploadedFile\n",
    "            :return: The text contents of the docx file\n",
    "            :rtype: str\n",
    "        \"\"\"\n",
    "        try:\n",
    "          if docx_parser == \"tika\":\n",
    "            text = parser.from_file(docx_file, service='text')['content']\n",
    "          elif docx_parser == \"docx2txt\":\n",
    "            text = docx2txt.process(docx_file)\n",
    "          else:\n",
    "            logging.error('Choose docx_parser from tika or docx2txt :: ' + str(e)+' is not supported')\n",
    "            return [], \" \"\n",
    "        except RuntimeError as e:            \n",
    "            logging.error('Error in tika installation:: ' + str(e))\n",
    "            logging.error('--------------------------')\n",
    "            logging.error('Install java for better result ')\n",
    "            text = docx2txt.process(docx_file)\n",
    "        except Exception as e:\n",
    "            logging.error('Error in docx file:: ' + str(e))\n",
    "            return [], \" \"\n",
    "        try:\n",
    "            clean_text = re.sub(r'\\n+', '\\n', text)\n",
    "            clean_text = clean_text.replace(\"\\r\", \"\\n\").replace(\"\\t\", \" \")  # Normalize text blob\n",
    "            resume_lines = clean_text.splitlines()  # Split text blob into individual lines\n",
    "            resume_lines = [re.sub('\\s+', ' ', line.strip()) for line in resume_lines if\n",
    "                            line.strip()]  # Remove empty strings and whitespaces\n",
    "            return resume_lines, text\n",
    "        except Exception as e:\n",
    "            logging.error('Error in docx file:: ' + str(e))\n",
    "            return [], \" \"\n",
    "\n",
    "    def convert_pdf_to_txt(pdf_file):\n",
    "        \"\"\"\n",
    "        A utility function to convert a machine-readable PDF to raw text.\n",
    "\n",
    "        This code is largely borrowed from existing solutions, and does not match the style of the rest of this repo.\n",
    "        :param input_pdf_path: Path to the .pdf file which should be converted\n",
    "        :type input_pdf_path: str\n",
    "        :return: The text contents of the pdf\n",
    "        :rtype: str\n",
    "        \"\"\"\n",
    "            \n",
    "        try:\n",
    "            raw_text = parser.from_file(pdf_file, service='text')['content']\n",
    "        except RuntimeError as e:            \n",
    "            logging.error('Error in tika installation:: ' + str(e))\n",
    "            logging.error('--------------------------')\n",
    "            logging.error('Install java for better result ')\n",
    "            pdf = pdfplumber.open(pdf_file)\n",
    "            raw_text= \"\"\n",
    "            for page in pdf.pages:\n",
    "              raw_text += page.extract_text() + \"\\n\"\n",
    "            pdf.close()                \n",
    "        except Exception as e:\n",
    "            logging.error('Error in docx file:: ' + str(e))\n",
    "            return [], \" \"\n",
    "        try:\n",
    "            full_string = re.sub(r'\\n+', '\\n', raw_text)\n",
    "            full_string = full_string.replace(\"\\r\", \"\\n\")\n",
    "            full_string = full_string.replace(\"\\t\", \" \")\n",
    "\n",
    "            # Remove awkward LaTeX bullet characters\n",
    "\n",
    "            full_string = re.sub(r\"\\uf0b7\", \" \", full_string)\n",
    "            full_string = re.sub(r\"\\(cid:\\d{0,2}\\)\", \" \", full_string)\n",
    "            full_string = re.sub(r'• ', \" \", full_string)\n",
    "\n",
    "            # Split text blob into individual lines\n",
    "            resume_lines = full_string.splitlines(True)\n",
    "\n",
    "            # Remove empty strings and whitespaces\n",
    "            resume_lines = [re.sub('\\s+', ' ', line.strip()) for line in resume_lines if line.strip()]\n",
    "\n",
    "            return resume_lines, raw_text\n",
    "        except Exception as e:\n",
    "            logging.error('Error in docx file:: ' + str(e))\n",
    "            return [], \" \"\n",
    "            \n",
    "    def find_segment_indices(string_to_search, resume_segments, resume_indices):\n",
    "        for i, line in enumerate(string_to_search):\n",
    "\n",
    "            if line[0].islower():\n",
    "                continue\n",
    "\n",
    "            header = line.lower()\n",
    "\n",
    "            if [s for s in SkillExtractor.skills_header if header.startswith(s)]:\n",
    "                try:\n",
    "                    resume_segments['skills'][header]\n",
    "                except:\n",
    "                    resume_indices.append(i)\n",
    "                    header = [s for s in SkillExtractor.skills_header if header.startswith(s)][0]\n",
    "                    resume_segments['skills'][header] = i\n",
    "\n",
    "\n",
    "    def slice_segments(string_to_search, resume_segments, resume_indices):\n",
    "        resume_segments['contact_info'] = string_to_search[:resume_indices[0]]\n",
    "\n",
    "        for section, value in resume_segments.items():\n",
    "            if section == 'contact_info':\n",
    "                continue\n",
    "\n",
    "            for sub_section, start_idx in value.items():\n",
    "                end_idx = len(string_to_search)\n",
    "                if (resume_indices.index(start_idx) + 1) != len(resume_indices):\n",
    "                    end_idx = resume_indices[resume_indices.index(start_idx) + 1]\n",
    "\n",
    "                resume_segments[section][sub_section] = string_to_search[start_idx:end_idx]\n",
    "\n",
    "    def segment(string_to_search):\n",
    "        resume_segments = {\n",
    "            'objective': {},\n",
    "            'work_and_employment': {},\n",
    "            'education_and_training': {},\n",
    "            'skills': {},\n",
    "            'accomplishments': {},\n",
    "            'misc': {}\n",
    "        }\n",
    "\n",
    "        resume_indices = []\n",
    "\n",
    "        SkillExtractor.find_segment_indices(string_to_search, resume_segments, resume_indices)\n",
    "        if len(resume_indices) != 0:\n",
    "            SkillExtractor.slice_segments(string_to_search, resume_segments, resume_indices)\n",
    "        else:\n",
    "            resume_segments['contact_info'] = []\n",
    "\n",
    "        return resume_segments\n",
    "    \n",
    "    def extract_skills(text):\n",
    "\n",
    "        skills = []\n",
    "\n",
    "        __nlp = nlp(text.lower())\n",
    "        # Only run nlp.make_doc to speed things up\n",
    "\n",
    "        matches = skillsmatcher(__nlp)\n",
    "        for match_id, start, end in matches:\n",
    "            span = __nlp[start:end]\n",
    "            skills.append(span.text)\n",
    "        skills = list(set(skills))\n",
    "        return skills\n",
    "\n",
    "\n",
    "    def get_skills(file,docx_parser = \"tika\"):\n",
    "        \"\"\"\n",
    "        file : Give path of resume file\n",
    "        docx_parser : Enter docx2txt or tika, by default is tika\n",
    "        \"\"\"\n",
    "        # file = \"/content/Asst Manager Trust Administration.docx\"\n",
    "        file = os.path.join(file)\n",
    "        if file.endswith('docx') or file.endswith('doc'):\n",
    "            if file.endswith('doc') and docx_parser == \"docx2txt\":\n",
    "              docx_parser = \"tika\"\n",
    "              logging.error(\"doc format not supported by the docx2txt changing back to tika\")\n",
    "            resume_lines, raw_text = SkillExtractor.convert_docx_to_txt(file,docx_parser)\n",
    "        elif file.endswith('pdf'):\n",
    "            resume_lines, raw_text = SkillExtractor.convert_pdf_to_txt(file)\n",
    "        elif file.endswith('txt'):\n",
    "            with open(file, 'r', encoding='latin') as f:\n",
    "                resume_lines = f.readlines()\n",
    "\n",
    "        else:\n",
    "            resume_lines = None\n",
    "        resume_segments = SkillExtractor.segment(resume_lines)\n",
    "        \n",
    "        \n",
    "        full_text = \" \".join(resume_lines)\n",
    "\n",
    "        email = SkillExtractor.extract_email(full_text)\n",
    "        phone = SkillExtractor.find_phone(full_text)\n",
    "        name = SkillExtractor.extract_name(\" \".join(resume_segments['contact_info']))\n",
    "        total_exp, text = SkillExtractor.get_experience(resume_segments)\n",
    "        university = SkillExtractor.extract_university(full_text, os.path.join(base_path,'world-universities.csv'))\n",
    "\n",
    "        designition = SkillExtractor.job_designition(full_text)\n",
    "        designition = list(dict.fromkeys(designition).keys())\n",
    "\n",
    "        degree = SkillExtractor.get_degree(full_text)\n",
    "        company_working = SkillExtractor.get_company_working(full_text)\n",
    "        \n",
    "        skills = \"\"\n",
    "\n",
    "        if len(resume_segments['skills'].keys()):\n",
    "            for key , values in resume_segments['skills'].items():\n",
    "              skills += re.sub(key, '', \",\".join(values), flags=re.IGNORECASE)            \n",
    "            skills = skills.strip().strip(\",\").split(\",\")\n",
    "        \n",
    "        if len(skills) == 0:\n",
    "            skills = SkillExtractor.extract_skills(full_text)\n",
    "        skills = list(dict.fromkeys(skills).keys())\n",
    "        \n",
    "        return {\n",
    "            \"email\": email,\n",
    "            \"phone\": phone,\n",
    "            \"name\": name,\n",
    "            \"total_exp\": total_exp,\n",
    "            \"university\": university,\n",
    "            \"designition\": designition,\n",
    "            \"degree\": degree,\n",
    "            \"skills\": skills,\n",
    "            \"Companies worked at\": company_working\n",
    "        }"
   ]
  }
 ],
 "metadata": {
  "kernelspec": {
   "display_name": "Python 3 (ipykernel)",
   "language": "python",
   "name": "python3"
  },
  "language_info": {
   "codemirror_mode": {
    "name": "ipython",
    "version": 3
   },
   "file_extension": ".py",
   "mimetype": "text/x-python",
   "name": "python",
   "nbconvert_exporter": "python",
   "pygments_lexer": "ipython3",
   "version": "3.9.5"
  }
 },
 "nbformat": 4,
 "nbformat_minor": 4
}
